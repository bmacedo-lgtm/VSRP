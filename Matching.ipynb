{
 "cells": [
  {
   "cell_type": "code",
   "execution_count": 2,
   "metadata": {},
   "outputs": [],
   "source": [
    "import pandas as pd\n",
    "import numpy as np"
   ]
  },
  {
   "cell_type": "code",
   "execution_count": 3,
   "metadata": {},
   "outputs": [],
   "source": [
    "mentees = pd.read_csv(\"VSRP_Mentees.csv\")\n",
    "mentors = pd.read_csv(\"VSRP_Mentors.csv\")\n",
    "rubric = pd.read_csv(\"VSRP_Rubric_Scores.csv\")"
   ]
  },
  {
   "cell_type": "code",
   "execution_count": 4,
   "metadata": {},
   "outputs": [],
   "source": [
    "def get_name(first, middle, last):\n",
    "    if not pd.isna(middle):\n",
    "        name = first + \" \" + middle + \" \" + last\n",
    "    else:\n",
    "        name = first + \" \" + last\n",
    "    return name"
   ]
  },
  {
   "cell_type": "code",
   "execution_count": 5,
   "metadata": {},
   "outputs": [],
   "source": [
    "mentees[\"Applicant Name\"] = mentees[[\"First Name\", \n",
    "              \"Middle Name\", \n",
    "              \"Last Name\"]].apply(lambda x: get_name(*x), axis=1, result_type='expand')"
   ]
  },
  {
   "cell_type": "code",
   "execution_count": 6,
   "metadata": {},
   "outputs": [],
   "source": [
    "duplicates = mentees[\"Applicant Name\"].duplicated()\n",
    "duplicates = [not dup for dup in duplicates]"
   ]
  },
  {
   "cell_type": "code",
   "execution_count": 7,
   "metadata": {},
   "outputs": [],
   "source": [
    "mentees = mentees[duplicates]"
   ]
  },
  {
   "cell_type": "code",
   "execution_count": 8,
   "metadata": {},
   "outputs": [],
   "source": [
    "duplicates = rubric[\"Applicant Name\"].duplicated()\n",
    "duplicates = [not dup for dup in duplicates]\n",
    "rubric = rubric[duplicates]"
   ]
  },
  {
   "cell_type": "code",
   "execution_count": 9,
   "metadata": {},
   "outputs": [],
   "source": [
    "mentees[\"Final Score\"] = rubric[\"Final Score\"]"
   ]
  },
  {
   "cell_type": "code",
   "execution_count": 10,
   "metadata": {},
   "outputs": [
    {
     "data": {
      "text/html": [
       "<div>\n",
       "<style scoped>\n",
       "    .dataframe tbody tr th:only-of-type {\n",
       "        vertical-align: middle;\n",
       "    }\n",
       "\n",
       "    .dataframe tbody tr th {\n",
       "        vertical-align: top;\n",
       "    }\n",
       "\n",
       "    .dataframe thead th {\n",
       "        text-align: right;\n",
       "    }\n",
       "</style>\n",
       "<table border=\"1\" class=\"dataframe\">\n",
       "  <thead>\n",
       "    <tr style=\"text-align: right;\">\n",
       "      <th></th>\n",
       "      <th>index</th>\n",
       "      <th>Submission #</th>\n",
       "      <th>Date/Time Submitted</th>\n",
       "      <th>Last Modified</th>\n",
       "      <th>Archived?</th>\n",
       "      <th>Approved?</th>\n",
       "      <th>Member ID</th>\n",
       "      <th>Admin Comments</th>\n",
       "      <th>APSA's VSRP 2021 Mentee Application</th>\n",
       "      <th>First Name</th>\n",
       "      <th>...</th>\n",
       "      <th>I understand that my resume will be sent out to potential mentors</th>\n",
       "      <th>I understand that potential mentors may contact me, but this does NOT guarantee a position</th>\n",
       "      <th>What is your motivation for applying to VSRP?</th>\n",
       "      <th>Explain your interest in combining medicine and research in your future career</th>\n",
       "      <th>Have you experienced any barriers to obtaining research experience, and if so, please describe.</th>\n",
       "      <th>What did you learn from the 'Day in The Life of a Physician Scientist' Interactive Session?</th>\n",
       "      <th>Are you interested in receiving resources supporting applicants to MD/DO-PhD programs?</th>\n",
       "      <th>I acknowledge that my anonymized responses may be used in research to improve VSRP</th>\n",
       "      <th>Applicant Name</th>\n",
       "      <th>Final Score</th>\n",
       "    </tr>\n",
       "  </thead>\n",
       "  <tbody>\n",
       "    <tr>\n",
       "      <th>0</th>\n",
       "      <td>169</td>\n",
       "      <td>24710708</td>\n",
       "      <td>2021-04-08 19:38:43</td>\n",
       "      <td>2021-04-08 19:38:43</td>\n",
       "      <td>No</td>\n",
       "      <td>No</td>\n",
       "      <td>NaN</td>\n",
       "      <td>NaN</td>\n",
       "      <td>NaN</td>\n",
       "      <td>Sally</td>\n",
       "      <td>...</td>\n",
       "      <td>Yes</td>\n",
       "      <td>Yes</td>\n",
       "      <td>I want to learn more about what a physician-sc...</td>\n",
       "      <td>I am interested in combining medicine and rese...</td>\n",
       "      <td>I have experienced barriers in obtaining resea...</td>\n",
       "      <td>From the \"Day in The Life of a Physician Scien...</td>\n",
       "      <td>Yes</td>\n",
       "      <td>Yes</td>\n",
       "      <td>Sally Mei</td>\n",
       "      <td>12.0</td>\n",
       "    </tr>\n",
       "  </tbody>\n",
       "</table>\n",
       "<p>1 rows × 54 columns</p>\n",
       "</div>"
      ],
      "text/plain": [
       "   index  Submission #  Date/Time Submitted        Last Modified Archived?  \\\n",
       "0    169      24710708  2021-04-08 19:38:43  2021-04-08 19:38:43        No   \n",
       "\n",
       "  Approved?  Member ID  Admin Comments  APSA's VSRP 2021 Mentee Application  \\\n",
       "0        No        NaN             NaN                                  NaN   \n",
       "\n",
       "  First Name  ...  \\\n",
       "0      Sally  ...   \n",
       "\n",
       "  I understand that my resume will be sent out to potential mentors  \\\n",
       "0                                                Yes                  \n",
       "\n",
       "  I understand that potential mentors may contact me, but this does NOT guarantee a position  \\\n",
       "0                                                Yes                                           \n",
       "\n",
       "       What is your motivation for applying to VSRP?  \\\n",
       "0  I want to learn more about what a physician-sc...   \n",
       "\n",
       "  Explain your interest in combining medicine and research in your future career  \\\n",
       "0  I am interested in combining medicine and rese...                               \n",
       "\n",
       "  Have you experienced any barriers to obtaining research experience, and if so, please describe.  \\\n",
       "0  I have experienced barriers in obtaining resea...                                                \n",
       "\n",
       "  What did you learn from the 'Day in The Life of a Physician Scientist' Interactive Session?  \\\n",
       "0  From the \"Day in The Life of a Physician Scien...                                            \n",
       "\n",
       "  Are you interested in receiving resources supporting applicants to MD/DO-PhD programs?  \\\n",
       "0                                                Yes                                       \n",
       "\n",
       "  I acknowledge that my anonymized responses may be used in research to improve VSRP  \\\n",
       "0                                                Yes                                   \n",
       "\n",
       "  Applicant Name Final Score  \n",
       "0      Sally Mei        12.0  \n",
       "\n",
       "[1 rows x 54 columns]"
      ]
     },
     "execution_count": 10,
     "metadata": {},
     "output_type": "execute_result"
    }
   ],
   "source": [
    "mentees.sort_values(by=['Final Score'], inplace=True, ascending=False)\n",
    "mentees.reset_index(inplace=True)\n",
    "mentees.head(1)"
   ]
  },
  {
   "cell_type": "code",
   "execution_count": 11,
   "metadata": {},
   "outputs": [],
   "source": [
    "TAG_SKILLS_PI = \"What skills would be helpful for mentees to have?  Note that we cannot guarantee this.\"\n",
    "\n",
    "TAG_STUDENT_SKILLS = \"What skills do you have that you could offer a lab? (not necessary for being matched)\"\n",
    "\n",
    "TAG_STUDENT_SKILLS_TO_LEARN = \"What skills would you like to learn?\"\n",
    "\n",
    "TAG_GRAD = \"When do you plan to apply to a professional school (e.g., MD, MD/PhD, DO/PhD, graduate, or masters)?\"\n",
    "\n",
    "TAG_CONTACT = \"Contact email for receiving applicant resumes\"\n",
    "\n",
    "TAG_MENTOR_EMAIL = \"Email of direct mentor if not yourself (otherwise N/A):\"\n",
    "\n",
    "TAG_STUDENT_EMAIL = \"Email Address\"\n",
    "\n",
    "TAG_STUDENT_FIELD = \"What research field(s) are you interested in?\"\n",
    "\n",
    "TAG_PI_FIELD = \"Lab Research field\""
   ]
  },
  {
   "cell_type": "code",
   "execution_count": 12,
   "metadata": {},
   "outputs": [],
   "source": [
    "WEIGHT_FIELD = 6\n",
    "WEIGHT_CURRENT_SKILLS = 2\n",
    "WEIGHT_FUTURE_SKILLS = 0.2"
   ]
  },
  {
   "cell_type": "code",
   "execution_count": 13,
   "metadata": {},
   "outputs": [],
   "source": [
    "def calculate_score_mentee_mentor(PI_field, PI_skills, mentee_field, mentee_skills, mentee_future_skills):\n",
    "    fields_PI = PI_field.split(\"|\")\n",
    "    skills_PI = PI_skills.split(\"|\")\n",
    "    fields_mentee = mentee_field.split(\"|\")\n",
    "    skills_mentee = mentee_skills.split(\"|\")\n",
    "    new_skills_mentee = mentee_future_skills.split(\"|\")\n",
    "    \n",
    "    score = 0\n",
    "    \n",
    "    for field in fields_PI:\n",
    "        if field in fields_mentee:\n",
    "            score = score + WEIGHT_FIELD\n",
    "    \n",
    "    for skill in skills_PI:\n",
    "        if skill in skills_mentee:\n",
    "            score = score + WEIGHT_CURRENT_SKILLS\n",
    "        elif skill in new_skills_mentee:\n",
    "            score = score + WEIGHT_FUTURE_SKILLS\n",
    "    \n",
    "    return score"
   ]
  },
  {
   "cell_type": "code",
   "execution_count": 14,
   "metadata": {},
   "outputs": [],
   "source": [
    "def calculate_score_of_mentee_w_all_mentor(field, skills, future_skills):\n",
    "    return mentors[[TAG_PI_FIELD, \n",
    "                   TAG_SKILLS_PI]].apply(lambda x: calculate_score_mentee_mentor(*x, field, skills, future_skills), \n",
    "                                                                                             axis=1, result_type='expand')"
   ]
  },
  {
   "cell_type": "code",
   "execution_count": 15,
   "metadata": {},
   "outputs": [],
   "source": [
    "entire2Ddf = mentees[[TAG_STUDENT_FIELD, \n",
    "              TAG_STUDENT_SKILLS, \n",
    "              TAG_STUDENT_SKILLS_TO_LEARN]].apply(lambda x: calculate_score_of_mentee_w_all_mentor(*x), axis=1, result_type='expand')"
   ]
  },
  {
   "cell_type": "code",
   "execution_count": 16,
   "metadata": {},
   "outputs": [
    {
     "data": {
      "text/plain": [
       "array([[ 6.8,  8. , 20.4, ..., 14.8, 14.8, 18.2],\n",
       "       [10.6,  2. ,  0.4, ...,  4.6,  6.4,  0.2],\n",
       "       [14.6,  0. , 14.4, ..., 14.4, 14.4, 12. ],\n",
       "       ...,\n",
       "       [20.4,  0. , 24.2, ..., 20. , 18.2, 14. ],\n",
       "       [18.6,  0. ,  2.6, ..., 16.4, 18.2, 12.2],\n",
       "       [12.6,  2. ,  6.4, ..., 14.2, 14.4, 12. ]])"
      ]
     },
     "execution_count": 16,
     "metadata": {},
     "output_type": "execute_result"
    }
   ],
   "source": [
    "entire2Darray = entire2Ddf.to_numpy()\n",
    "entire2Darray"
   ]
  },
  {
   "cell_type": "code",
   "execution_count": 17,
   "metadata": {},
   "outputs": [],
   "source": [
    "matches = np.zeros((len(mentees), len(mentors)), dtype=bool)\n",
    "matches\n",
    "for row in range(len(entire2Darray)):\n",
    "    mentor_list = entire2Darray[row, :].argsort()[-3:][::-1]\n",
    "    for mentor in mentor_list:\n",
    "        matches[row, mentor] = True\n",
    "        if np.sum(matches[:, mentor]) >= 8:\n",
    "            entire2Darray[:, mentor] = -1    "
   ]
  },
  {
   "cell_type": "code",
   "execution_count": 22,
   "metadata": {},
   "outputs": [],
   "source": [
    "mentee_emails = []\n",
    "mentee_names = []\n",
    "for col in range(matches.shape[1]):\n",
    "    email = [mentees[\"Applicant Name\"][match] + \" (\" + mentees[\"Email Address\"][match] + \")\" for match in matches[:, col].nonzero()[0]]\n",
    "    mentee_emails.append(email)"
   ]
  },
  {
   "cell_type": "code",
   "execution_count": 24,
   "metadata": {},
   "outputs": [
    {
     "data": {
      "text/html": [
       "<div>\n",
       "<style scoped>\n",
       "    .dataframe tbody tr th:only-of-type {\n",
       "        vertical-align: middle;\n",
       "    }\n",
       "\n",
       "    .dataframe tbody tr th {\n",
       "        vertical-align: top;\n",
       "    }\n",
       "\n",
       "    .dataframe thead th {\n",
       "        text-align: right;\n",
       "    }\n",
       "</style>\n",
       "<table border=\"1\" class=\"dataframe\">\n",
       "  <thead>\n",
       "    <tr style=\"text-align: right;\">\n",
       "      <th></th>\n",
       "      <th>Submission #</th>\n",
       "      <th>Date/Time Submitted</th>\n",
       "      <th>Last Modified</th>\n",
       "      <th>Archived?</th>\n",
       "      <th>Approved?</th>\n",
       "      <th>Member ID</th>\n",
       "      <th>Admin Comments</th>\n",
       "      <th>Virtual Summer Research Program (VSRP): Register to be a Mentor!</th>\n",
       "      <th>First Name</th>\n",
       "      <th>Last Name</th>\n",
       "      <th>...</th>\n",
       "      <th>I agree that the PI (if not myself) will meet with the mentee at least twice during the program</th>\n",
       "      <th>I agree to welcome a mentee into your lab for a minimum of 8 weeks?</th>\n",
       "      <th>I understand that students may not begin work until they are officially matched with me on 6/01/21</th>\n",
       "      <th>I have the flexibility for this summer research opportunity to extend past August 6th, 2021.</th>\n",
       "      <th>Do you have avenues to fund this summer research opportunity? (Full funding: $2000/8 weeks)</th>\n",
       "      <th>How did you hear about VSRP?</th>\n",
       "      <th>If you selected other, please elaborate.</th>\n",
       "      <th>What is your motivation for applying to be a VSRP mentor?</th>\n",
       "      <th>Are you interested in informally mentoring a student who shares an aspect of the identity?</th>\n",
       "      <th>Mentee Name</th>\n",
       "    </tr>\n",
       "  </thead>\n",
       "  <tbody>\n",
       "    <tr>\n",
       "      <th>0</th>\n",
       "      <td>24350986</td>\n",
       "      <td>2021-03-03 22:48:25</td>\n",
       "      <td>2021-03-03 22:48:25</td>\n",
       "      <td>No</td>\n",
       "      <td>No</td>\n",
       "      <td>NaN</td>\n",
       "      <td>NaN</td>\n",
       "      <td>NaN</td>\n",
       "      <td>Hongxia</td>\n",
       "      <td>Ren</td>\n",
       "      <td>...</td>\n",
       "      <td>Yes</td>\n",
       "      <td>Yes</td>\n",
       "      <td>Yes</td>\n",
       "      <td>Yes, months.</td>\n",
       "      <td>Cannot provide any funding</td>\n",
       "      <td>Email listserv</td>\n",
       "      <td>NaN</td>\n",
       "      <td>I had a very good experience last year with th...</td>\n",
       "      <td>No</td>\n",
       "      <td>[Shrika Ravichandran (shrikar@g.clemson.edu), ...</td>\n",
       "    </tr>\n",
       "    <tr>\n",
       "      <th>1</th>\n",
       "      <td>24352456</td>\n",
       "      <td>2021-03-04 07:50:26</td>\n",
       "      <td>2021-03-04 07:50:26</td>\n",
       "      <td>No</td>\n",
       "      <td>No</td>\n",
       "      <td>NaN</td>\n",
       "      <td>NaN</td>\n",
       "      <td>NaN</td>\n",
       "      <td>test</td>\n",
       "      <td>test</td>\n",
       "      <td>...</td>\n",
       "      <td>Yes</td>\n",
       "      <td>Yes</td>\n",
       "      <td>Yes</td>\n",
       "      <td>Yes, weeks.</td>\n",
       "      <td>Maybe</td>\n",
       "      <td>Other</td>\n",
       "      <td>NaN</td>\n",
       "      <td>test</td>\n",
       "      <td>Maybe</td>\n",
       "      <td>[Elizabeth Donovan (donovane@lawrence.edu), Sh...</td>\n",
       "    </tr>\n",
       "  </tbody>\n",
       "</table>\n",
       "<p>2 rows × 38 columns</p>\n",
       "</div>"
      ],
      "text/plain": [
       "   Submission #  Date/Time Submitted        Last Modified Archived? Approved?  \\\n",
       "0      24350986  2021-03-03 22:48:25  2021-03-03 22:48:25        No        No   \n",
       "1      24352456  2021-03-04 07:50:26  2021-03-04 07:50:26        No        No   \n",
       "\n",
       "   Member ID  Admin Comments  \\\n",
       "0        NaN             NaN   \n",
       "1        NaN             NaN   \n",
       "\n",
       "   Virtual Summer Research Program (VSRP): Register to be a Mentor!  \\\n",
       "0                                                NaN                  \n",
       "1                                                NaN                  \n",
       "\n",
       "  First Name Last Name  ...  \\\n",
       "0    Hongxia       Ren  ...   \n",
       "1       test      test  ...   \n",
       "\n",
       "  I agree that the PI (if not myself) will meet with the mentee at least twice during the program  \\\n",
       "0                                                Yes                                                \n",
       "1                                                Yes                                                \n",
       "\n",
       "  I agree to welcome a mentee into your lab for a minimum of 8 weeks?  \\\n",
       "0                                                Yes                    \n",
       "1                                                Yes                    \n",
       "\n",
       "  I understand that students may not begin work until they are officially matched with me on 6/01/21  \\\n",
       "0                                                Yes                                                   \n",
       "1                                                Yes                                                   \n",
       "\n",
       "  I have the flexibility for this summer research opportunity to extend past August 6th, 2021.   \\\n",
       "0                                       Yes, months.                                              \n",
       "1                                        Yes, weeks.                                              \n",
       "\n",
       "  Do you have avenues to fund this summer research opportunity? (Full funding: $2000/8 weeks)  \\\n",
       "0                         Cannot provide any funding                                            \n",
       "1                                              Maybe                                            \n",
       "\n",
       "  How did you hear about VSRP?   If you selected other, please elaborate.  \\\n",
       "0                Email listserv                                       NaN   \n",
       "1                         Other                                       NaN   \n",
       "\n",
       "  What is your motivation for applying to be a VSRP mentor?   \\\n",
       "0  I had a very good experience last year with th...           \n",
       "1                                               test           \n",
       "\n",
       "   Are you interested in informally mentoring a student who shares an aspect of the identity?  \\\n",
       "0                                                 No                                            \n",
       "1                                              Maybe                                            \n",
       "\n",
       "                                         Mentee Name  \n",
       "0  [Shrika Ravichandran (shrikar@g.clemson.edu), ...  \n",
       "1  [Elizabeth Donovan (donovane@lawrence.edu), Sh...  \n",
       "\n",
       "[2 rows x 38 columns]"
      ]
     },
     "execution_count": 24,
     "metadata": {},
     "output_type": "execute_result"
    }
   ],
   "source": [
    "# mentors[\"Mentee Emails\"] = mentee_emails\n",
    "# mentors[\"Mentee Name\"] = mentee_names\n",
    "mentors[\"Mentee Name\"] = mentee_emails\n",
    "mentors.head(2)"
   ]
  },
  {
   "cell_type": "code",
   "execution_count": 25,
   "metadata": {},
   "outputs": [],
   "source": [
    "mentors.to_csv(\"Mentors_matches.csv\")"
   ]
  },
  {
   "cell_type": "code",
   "execution_count": null,
   "metadata": {},
   "outputs": [],
   "source": []
  },
  {
   "cell_type": "code",
   "execution_count": null,
   "metadata": {},
   "outputs": [],
   "source": []
  }
 ],
 "metadata": {
  "kernelspec": {
   "display_name": "Python 3",
   "language": "python",
   "name": "python3"
  },
  "language_info": {
   "codemirror_mode": {
    "name": "ipython",
    "version": 3
   },
   "file_extension": ".py",
   "mimetype": "text/x-python",
   "name": "python",
   "nbconvert_exporter": "python",
   "pygments_lexer": "ipython3",
   "version": "3.7.9"
  }
 },
 "nbformat": 4,
 "nbformat_minor": 4
}
